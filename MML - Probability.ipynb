{
 "cells": [
  {
   "cell_type": "markdown",
   "metadata": {},
   "source": [
    "### <center>Notes for Maths for Machine Learning from AWS - Course "
   ]
  },
  {
   "cell_type": "markdown",
   "metadata": {},
   "source": [
    "1. Vectors\n",
    "2. Matrices <br>\n",
    "<b>3. Probabity & Set Theory<b>\n",
    "4. Uni Variate & Multi Variate Calculus"
   ]
  },
  {
   "cell_type": "markdown",
   "metadata": {},
   "source": [
    "- The probability theory is used in machine learning models where the outcomes are:\n",
    "-- Inherintly Random\n",
    "-- Simply Too complex"
   ]
  },
  {
   "cell_type": "markdown",
   "metadata": {},
   "source": [
    "For example If we flip 3 coints the probabily of the outcome where there will be exactly 2 heads is $\\frac{3}{8}$"
   ]
  },
  {
   "cell_type": "markdown",
   "metadata": {},
   "source": [
    "Some key terminologies\n",
    "- Outcome :Single posibility from the experiment Ex: HHT\n",
    "- Sample space - The set of all possible outcomes denoted by $\\Omega = (HHT, HTT... )$\n",
    "- Event - Some thing we can observe $E = { exactly two heads } = {HHT, HTH, THH}$\n",
    "- Probability - $P\\{E\\} $ = Fraction of an experiment where an event occurs "
   ]
  },
  {
   "cell_type": "markdown",
   "metadata": {},
   "source": [
    "Axioms of Probability\n",
    "- Axiom#1 - Fraction of times an event occurs is between 0 and 1 - $P\\{E\\} \\in [0,1]$\n",
    "- Axiom#2 - Something always happens , Sample space $\\Omega = \\{ set of all outocmes\\} $ So $P\\{\\Omega\\} = 1 $\n",
    "- Axiom#3 - If two events cant happen at the same time, then the fraction fo the time that one of them occurs is the sum of the fraction of the time either one occurs seperately. $E_1 \\cap \\ E_2 = \\emptyset $ Where E1 is event of Head and E2 is event of Tail when a coin is flipped and both cannot happen at once. Also $ P\\{E_1 \\cup \\ E_2\\} = P\\{E_1\\} + P\\{E_2\\}$\n",
    "Lets say we have set of Events $\\{E_i\\} $, So $E_i \\cap \\ E_j = \\emptyset for i!=j , P\\{ \\cup iE_i\\}"
   ]
  },
  {
   "cell_type": "markdown",
   "metadata": {},
   "source": [
    "### Visualizing Probability"
   ]
  },
  {
   "cell_type": "markdown",
   "metadata": {},
   "source": [
    "Probability - Geometry<br>\n",
    "$\\Omega$ - Region<br>\n",
    "Outcomes -Points<br>\n",
    "Events -Subregion<br>\n",
    "Disjointevents - Disjoint subregions<br>\n",
    "$P\\{\\}$ - Area of Region<br>\n",
    "$P\\{\\Omega\\}$ - Area ofsubregion = 1\n"
   ]
  },
  {
   "cell_type": "markdown",
   "metadata": {},
   "source": [
    "Inclusion -Exclusion <br>\n",
    "$ P\\{E_1 \\cup \\ E_2\\} = P\\{E_1\\} + P\\{E_2\\}$ when $E_1 \\cap \\ E_2 = \\emptyset $ <br>\n",
    "So when $E_1 \\cap \\ E_2 != \\emptyset $  then $ P\\{E_1 \\cup \\ E_2\\} = P\\{E_1\\} + P\\{E_2\\} -P\\{E_1 \\cap \\ E_2\\} $ <br> when there are three events then $ P\\{E_1 \\cup  E_2 \\cup E_3 \\}  = P\\{E_1\\} + P\\{E_2\\} - \\{E_1 \\cap \\ E_2\\} - \\{E_2 \\cap  E_3\\} - \\{E_1 \\cap  E_3\\} + \\{E_1 \\cap \\ E_2 \\cap E_3 \\}$"
   ]
  },
  {
   "cell_type": "code",
   "execution_count": null,
   "metadata": {},
   "outputs": [],
   "source": []
  }
 ],
 "metadata": {
  "kernelspec": {
   "display_name": "Python 3",
   "language": "python",
   "name": "python3"
  },
  "language_info": {
   "codemirror_mode": {
    "name": "ipython",
    "version": 3
   },
   "file_extension": ".py",
   "mimetype": "text/x-python",
   "name": "python",
   "nbconvert_exporter": "python",
   "pygments_lexer": "ipython3",
   "version": "3.6.5"
  }
 },
 "nbformat": 4,
 "nbformat_minor": 2
}
