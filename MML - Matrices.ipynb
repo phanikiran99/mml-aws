{
 "cells": [
  {
   "cell_type": "markdown",
   "metadata": {},
   "source": [
    " ### <center>Notes for Maths for Machine Learning from AWS - Course "
   ]
  },
  {
   "cell_type": "markdown",
   "metadata": {},
   "source": [
    "1. Vectors <br>\n",
    "<b>2. Matrices</b>\n",
    "3. Probablity & Set Theory\n",
    "4. Uni Variate & Multi Variate Calculus"
   ]
  },
  {
   "cell_type": "markdown",
   "metadata": {},
   "source": [
    "- Motivation for Dot Product. <br>\n",
    "Lets say we have a vector $\n",
    "\\vec v = \n",
    "\\begin{bmatrix}\n",
    "    v_1 \\\\\n",
    "    v_2 \\\\\n",
    "    v_3 \\\\\n",
    "     . \\\\\n",
    "     . \\\\\n",
    "    v_n \\\\ \n",
    "\\end{bmatrix} \n",
    "$ where $v_1, v_2... v_n$ corresponds to the Each room SFT in a building and another vector  $\n",
    "\\vec w = \n",
    "\\begin{bmatrix}\n",
    "    w_1 & w_2 & w_3 & ... & w_n\n",
    "\\end{bmatrix}  $ where $w_1, w_2... w_n$ corresponds to number of rooms in each floor. So to calculate the total SFT of the building we need to calculate it like $ v_1 * w_1 + v_2 * w_2 ....v_n * w_n $ which can also be written as $\\sum_{i=1}^{n}{w_i * v_i} $ which is generally represented as dot product of weights vector $\\vec w$ and $\\vec v$  which is $\\vec w_{1*n} * \\vec v_{n*1}$. So we are using weights of the row vector to multipy with column vector to get the feature of the model."
   ]
  },
  {
   "cell_type": "markdown",
   "metadata": {},
   "source": [
    "- Dot product <br>\n",
    "Lets say we have a vectors $\n",
    "\\vec v = \n",
    "\\begin{bmatrix}\n",
    "    v_1 \\\\\n",
    "    v_2 \\\\\n",
    "     . \\\\\n",
    "     . \\\\\n",
    "    v_n \\\\ \n",
    "\\end{bmatrix}\n",
    "$ and \n",
    "$\n",
    "\\vec w = \n",
    "\\begin{bmatrix}\n",
    "    w_1 \\\\\n",
    "    w_2 \\\\\n",
    "     . \\\\\n",
    "     . \\\\\n",
    "    w_n \\\\ \n",
    "\\end{bmatrix}\n",
    "$ Then the dot product of these vectors is defined as $ \\vec v . \\vec w = \\vec v^{T} * \\vec w $ which can also be represented as $ \\vec v . \\vec w = ||\\vec v|| . ||\\vec w|| . \\cos\\theta $ so to find the ange we can have $\\theta = \\arccos\\big(\\frac{\\vec v . \\vec w }{||\\vec v|| . ||\\vec w||}\\big)$"
   ]
  },
  {
   "cell_type": "code",
   "execution_count": 24,
   "metadata": {},
   "outputs": [],
   "source": [
    "# cos plot\n",
    "import numpy as np\n",
    "import matplotlib.pyplot as plt\n",
    "%matplotlib inline\n",
    "import seaborn as sns\n",
    "sns.set(style='white')"
   ]
  },
  {
   "cell_type": "code",
   "execution_count": 38,
   "metadata": {},
   "outputs": [
    {
     "data": {
      "image/png": "[encoded data removed]",
      "text/plain": [
       "<Figure size 432x288 with 1 Axes>"
      ]
     },
     "metadata": {},
     "output_type": "display_data"
    }
   ],
   "source": [
    "x = np.linspace(-5,5)\n",
    "y = np.cos(x)\n",
    "\n",
    "plt.plot(x,y,c='green')\n",
    "plt.plot([-6,6],[0,0],c='black');\n",
    "plt.title('cos plot');"
   ]
  },
  {
   "cell_type": "markdown",
   "metadata": {},
   "source": [
    "- Key consequences<br>\n",
    "Orthagonality: $\\vec v . \\vec w = 0 $, in this case we will have $ \\cos \\theta = 0 $ which can occur only when $\\theta \\in$ (-90,90) <br>\n",
    "$\\vec v . \\vec w > 0 $ when $\\theta \\in $ range of (-90,90) excluding -90 and 90  ( Positive inner product) <br>\n",
    "$\\vec v . \\vec w < 0 $ when $\\theta \\in $ greater than of (-90,90) excluding -90 and 90  ( Negative inner product)"
   ]
  },
  {
   "cell_type": "markdown",
   "metadata": {},
   "source": [
    "- Hyper plane \n",
    "It is the thing orthogonal to a given vector or a translator to a different plane.\n",
    "- Decision Plane\n",
    "It is the plane where $ || \\vec v || . \\cos \\theta > c $ where c is a speciic decission threshold that we want to decide"
   ]
  },
  {
   "cell_type": "markdown",
   "metadata": {},
   "source": [
    "- Matrix Multiplication - If A is a matric where the rows are features $w_i$ and B is a matrix where the columns are data vectors $v_j$ then the i,j-th entry of the product is $w_i*v_j$ which is to say the i-th feature of the j-th vector. In formulae if $ C = AB$ where $A$ is an $n * m$ matrix and $B$ is a $m * k$ matrix then $ C$ is a $n * k $ matrix where $c_{i,j} = \\sum\\limits_{l}a_{i,l} . b_{l,j}$ which is nothing but a dot product.\n",
    "- Data Matrix\n"
   ]
  },
  {
   "cell_type": "markdown",
   "metadata": {},
   "source": [
    "- The Hadamard Product - Alternative matrix multiplication method used in some ML applications, less useful method of multiplying matrices is element wise. noted as $ A o B = a_{i,j}*b_{i,j}$"
   ]
  },
  {
   "cell_type": "markdown",
   "metadata": {},
   "source": [
    "- Product Properties - \n",
    "Distributivity $A.(B+C) = A.B + A.C $\n",
    "Associativety $A(BC)=(AB)C$\n",
    "Non Commutativity.  $ A.B !=  B.A $"
   ]
  },
  {
   "cell_type": "markdown",
   "metadata": {},
   "source": [
    "- Identity matrix - Equivalent to number 1 \n",
    "Where $ I. A = A $ where \n",
    "I = \n",
    "\\begin{bmatrix}\n",
    "    1 & 0 & 0.... & 0 \\\\\n",
    "    0 & 1 & 0.... & 0 \\\\\n",
    "    0 & 0 & 1.... & 0 \\\\\n",
    "     .... \\\\\n",
    "    0 & 0 & 0.... & 1 \\\\\n",
    "\\end{bmatrix} \n",
    "\n",
    "So All Diagnol Elements will be 1 and rest of the elements will be Zero. "
   ]
  },
  {
   "cell_type": "markdown",
   "metadata": {},
   "source": [
    "- Geometry Matrix Operation\n",
    "Stretching - Any vector can be reprsentated as sclarar multiples of specific vectors \n",
    "Skewing\n",
    "Rotation\n",
    "\n",
    "\n",
    "The Determinant - of A is the factor the area is multiplied by det(A) is negative if we flip the area over. \n",
    "Computing Determinant \n",
    "$A =\n",
    "\\begin{bmatrix}\n",
    "a &b \\\\\n",
    "c & d\\\\\n",
    "\\end{bmatrix}\n",
    "$\n",
    "$det(A) = a.d-b.c $ This works for 2D matrices, but for larger matrices like mxn $n!$ . <br>\n",
    "Matrix Factorization - better than n! method, $O(m^2)$"
   ]
  },
  {
   "cell_type": "markdown",
   "metadata": {},
   "source": [
    "- Invertability\n",
    "As long as the determinant is not zero we can invert the matrix\n",
    "$A =\n",
    "\\begin{bmatrix}\n",
    "a &b \\\\\n",
    "c & d\\\\\n",
    "\\end{bmatrix}\n",
    "$ $A^{-1} =\n",
    "\\begin{bmatrix}\n",
    "e &f \\\\\n",
    "g & h\\\\\n",
    "\\end{bmatrix}\n",
    "$\n",
    "Then $A^{-1}.A = I$\n",
    "So\n",
    "$\n",
    "\\begin{bmatrix}\n",
    "e &f \\\\\n",
    "g & h\\\\\n",
    "\\end{bmatrix}\n",
    ".\n",
    "\\begin{bmatrix}\n",
    "a &b \\\\\n",
    "c & d\\\\\n",
    "\\end{bmatrix}\n",
    "=\n",
    "\\begin{bmatrix}\n",
    "1 &0 \\\\\n",
    "0 & 1\\\\\n",
    "\\end{bmatrix}\n",
    "$\n"
   ]
  },
  {
   "cell_type": "markdown",
   "metadata": {},
   "source": [
    "$ea+fc=1 \\\\\n",
    "       eb+fd=0 \\\\\n",
    "       ga+hc=0 \\\\\n",
    "       gb+hd=1 \\\\\n",
    "       $ <br>when solving above liner equations we can find $A^{-1} = \\frac{1}{ad-bc}\n",
    "       \\begin{bmatrix}\n",
    "d &-b \\\\\n",
    "-c & a\\\\\n",
    "\\end{bmatrix} $\n",
    "       \n",
    "       "
   ]
  },
  {
   "cell_type": "markdown",
   "metadata": {},
   "source": [
    "- Linear Dependence of vectors"
   ]
  },
  {
   "cell_type": "code",
   "execution_count": 45,
   "metadata": {},
   "outputs": [],
   "source": [
    "# Example of Calculation Angle between two vectors using numpy"
   ]
  },
  {
   "cell_type": "code",
   "execution_count": 40,
   "metadata": {},
   "outputs": [
    {
     "data": {
      "text/plain": [
       "5"
      ]
     },
     "execution_count": 40,
     "metadata": {},
     "output_type": "execute_result"
    }
   ],
   "source": [
    "v1 = np.array([1,0,-1,2])\n",
    "v2 = np.array([3,1,0,1])\n",
    "np.dot(v1,v2) # dot product of two vectors"
   ]
  },
  {
   "cell_type": "code",
   "execution_count": 47,
   "metadata": {},
   "outputs": [
    {
     "data": {
      "text/plain": [
       "8.124038404635959"
      ]
     },
     "execution_count": 47,
     "metadata": {},
     "output_type": "execute_result"
    }
   ],
   "source": [
    "np.linalg.norm(v1) * np.linalg.norm(v2) # product of euclidian Norms"
   ]
  },
  {
   "cell_type": "markdown",
   "metadata": {},
   "source": [
    "- So the angle is $\\arccos\\Big(\\frac{5}{8.1240..}\\Big)$"
   ]
  },
  {
   "cell_type": "code",
   "execution_count": null,
   "metadata": {},
   "outputs": [],
   "source": []
  }
 ],
 "metadata": {
  "kernelspec": {
   "display_name": "Python 3",
   "language": "python",
   "name": "python3"
  },
  "language_info": {
   "codemirror_mode": {
    "name": "ipython",
    "version": 3
   },
   "file_extension": ".py",
   "mimetype": "text/x-python",
   "name": "python",
   "nbconvert_exporter": "python",
   "pygments_lexer": "ipython3",
   "version": "3.7.0"
  }
 },
 "nbformat": 4,
 "nbformat_minor": 2
}
