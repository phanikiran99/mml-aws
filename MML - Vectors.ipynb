{
 "cells": [
  {
   "cell_type": "markdown",
   "metadata": {},
   "source": [
    " ### <center>Notes for Maths for Machine Learning from AWS - Course "
   ]
  },
  {
   "cell_type": "markdown",
   "metadata": {},
   "source": [
    "<b>1. Vectors</b>\n",
    "2. Matrices\n",
    "3. Probablity & Set Theory\n",
    "4. Uni Variate & Multi Variate Calculus"
   ]
  },
  {
   "cell_type": "markdown",
   "metadata": {},
   "source": [
    "Vectors. A vector $ \\vec v $ has magnitude $ m $ (size) and direction: The length of the line shows its magnitude and the arrowhead points in the direction.  $ \\vec v $  Can either be Row vectors or column vector "
   ]
  },
  {
   "cell_type": "markdown",
   "metadata": {},
   "source": [
    "<b>Row vector of 3 Dimension\n",
    "\n",
    "$$ \n",
    "\\vec v = \n",
    "\\begin{bmatrix}\n",
    "    0 & 1 & 2\n",
    "\\end{bmatrix} \n",
    "$$ \n",
    "\n",
    "<b> Column vector of 3 dimensions\n",
    "$$ \n",
    "\\vec w = \n",
    "\\begin{bmatrix}\n",
    "    0 \\\\\n",
    "    1 \\\\\n",
    "    2 \\\\\n",
    "\\end{bmatrix} \n",
    "$$ "
   ]
  },
  {
   "cell_type": "markdown",
   "metadata": {},
   "source": [
    "Combination of multiple row/columns vectors will form a $ m x n $ matrix"
   ]
  },
  {
   "cell_type": "markdown",
   "metadata": {},
   "source": [
    "<b>Vectors - represenation geographically"
   ]
  },
  {
   "cell_type": "code",
   "execution_count": 1,
   "metadata": {},
   "outputs": [],
   "source": [
    "import numpy as np\n",
    "\n",
    "import matplotlib.pyplot as plt\n",
    "import seaborn as sns\n",
    "sns.set()\n",
    "%matplotlib inline"
   ]
  },
  {
   "cell_type": "code",
   "execution_count": 27,
   "metadata": {},
   "outputs": [
    {
     "data": {
      "image/png": "[encoded data removed]",
      "text/plain": [
       "<Figure size 432x288 with 1 Axes>"
      ]
     },
     "metadata": {},
     "output_type": "display_data"
    }
   ],
   "source": [
    "V = np.array([[2,1],[-2,2],[4,-7]])\n",
    "origin = [0], [0] # origin point\n",
    "\n",
    "plt.quiver(*origin, V[:,0], V[:,1], color=['r','b','g'],scale=20);\n",
    "# plt.legend(['v1','v2','v3'])"
   ]
  },
  {
   "cell_type": "markdown",
   "metadata": {},
   "source": [
    "In Above example we have three directions of vectors $ \\vec v_1 $ = [2, 1] ,  $ \\vec v_2 $ = [-2, 2] ,  $ \\vec v_3 $ = [4, -7] . We can see from above plot that the vectors are directions of pointed spaces."
   ]
  },
  {
   "cell_type": "code",
   "execution_count": 28,
   "metadata": {},
   "outputs": [
    {
     "data": {
      "text/plain": [
       "<matplotlib.quiver.Quiver at 0x7fe608863668>"
      ]
     },
     "execution_count": 28,
     "metadata": {},
     "output_type": "execute_result"
    },
    {
     "data": {
      "image/png": "[encoded data removed]",
      "text/plain": [
       "<Figure size 432x288 with 1 Axes>"
      ]
     },
     "metadata": {},
     "output_type": "display_data"
    }
   ],
   "source": [
    "# scalar multiplication\n",
    "V2 = -2 * V\n",
    "plt.quiver(*origin, V2[:,0], V2[:,1], color=['r','g','b'], scale=41)"
   ]
  },
  {
   "cell_type": "markdown",
   "metadata": {},
   "source": [
    "By Multiplying with scalar the direction didnt change but just the size or magnitute, if scalar is negative then the direction will be in reverse direction but parallel and follows same vector"
   ]
  },
  {
   "cell_type": "code",
   "execution_count": 29,
   "metadata": {},
   "outputs": [
    {
     "data": {
      "image/png": "[encoded data removed]",
      "text/plain": [
       "<Figure size 432x288 with 1 Axes>"
      ]
     },
     "metadata": {},
     "output_type": "display_data"
    }
   ],
   "source": [
    "plt.quiver(*origin, V[:,0], V[:,1], color=['r','b','g'], scale=21)\n",
    "v12 = V[0] - V[1] # adding up the 1st (red) and 2nd (blue) vectors\n",
    "# origin = V[0]\n",
    "plt.quiver(*origin, v12[0], v12[1])\n",
    "plt.show()"
   ]
  },
  {
   "cell_type": "markdown",
   "metadata": {},
   "source": [
    "Above example shows the addition and subtraction properties of a vector\n",
    "#### More detail explanation to be updated"
   ]
  },
  {
   "cell_type": "markdown",
   "metadata": {},
   "source": [
    "### Norms - Basically the magnitute/distance of a vector\n",
    "- Euclidian Norm $$||\\vec v || = \\sum_{i=1}^{n}\\sqrt{v_i^2}$$\n",
    "- $L_p$ Norm $$||\\vec v || = \\sum_{i=1}^{n}\\sqrt[p]{v_i^p} = \\sum_{i=1}^{n}{v_i^p}^{\\frac{1}{p}}$$\n",
    "- $L_1$ Norm $$||\\vec v || = \\sum_{i=1}^{n}\\sqrt[1]{v_i^1} = \\sum_{i=1}^{n}{v_i}$$\n",
    "- $L_\\infty$ Norm $$||\\vec v || = \\max_{i=1}^{n} {v_i} $$"
   ]
  },
  {
   "cell_type": "code",
   "execution_count": null,
   "metadata": {},
   "outputs": [],
   "source": []
  }
 ],
 "metadata": {
  "kernelspec": {
   "display_name": "Python 3",
   "language": "python",
   "name": "python3"
  },
  "language_info": {
   "codemirror_mode": {
    "name": "ipython",
    "version": 3
   },
   "file_extension": ".py",
   "mimetype": "text/x-python",
   "name": "python",
   "nbconvert_exporter": "python",
   "pygments_lexer": "ipython3",
   "version": "3.6.5"
  }
 },
 "nbformat": 4,
 "nbformat_minor": 2
}
