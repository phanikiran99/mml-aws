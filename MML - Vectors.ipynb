{
 "cells": [
  {
   "cell_type": "markdown",
   "metadata": {},
   "source": [
    " ### <center>Notes for Maths for Machine Learning from AWS - Course "
   ]
  },
  {
   "cell_type": "markdown",
   "metadata": {},
   "source": [
    "<b>1. Vectors</b>\n",
    "2. Matrices\n",
    "3. Probablity & Set Theory\n",
    "4. Uni Variate & Multi Variate Calculus"
   ]
  },
  {
   "cell_type": "markdown",
   "metadata": {},
   "source": [
    "Vectors. A vector $ \\vec v $ has magnitude $ m $ (size) and direction: The length of the line shows its magnitude and the arrowhead points in the direction.  $ \\vec v $  Can either be Row vectors or column vector "
   ]
  },
  {
   "cell_type": "markdown",
   "metadata": {},
   "source": [
    "<b>Row vector of 3 Dimension\n",
    "\n",
    "$$ \n",
    "\\vec v = \n",
    "\\begin{bmatrix}\n",
    "    0 & 1 & 2\n",
    "\\end{bmatrix} \n",
    "$$ \n",
    "\n",
    "<b> Column vector of 3 dimensions\n",
    "$$ \n",
    "\\vec w = \n",
    "\\begin{bmatrix}\n",
    "    0 \\\\\n",
    "    1 \\\\\n",
    "    2 \\\\\n",
    "\\end{bmatrix} \n",
    "$$ "
   ]
  },
  {
   "cell_type": "markdown",
   "metadata": {},
   "source": [
    "Combination of multiple row/columns vectors will form a $ m x n $ matrix"
   ]
  },
  {
   "cell_type": "markdown",
   "metadata": {},
   "source": [
    "<b>Vectors - represenation geographically"
   ]
  },
  {
   "cell_type": "code",
   "execution_count": 1,
   "metadata": {},
   "outputs": [],
   "source": [
    "import numpy as np\n",
    "\n",
    "import matplotlib.pyplot as plt\n",
    "import seaborn as sns\n",
    "sns.set()\n",
    "%matplotlib inline"
   ]
  },
  {
   "cell_type": "code",
   "execution_count": 51,
   "metadata": {},
   "outputs": [
    {
     "data": {
      "image/png": "[encoded data removed]",
      "text/plain": [
       "<Figure size 432x288 with 1 Axes>"
      ]
     },
     "metadata": {
      "needs_background": "light"
     },
     "output_type": "display_data"
    }
   ],
   "source": [
    "V = np.array([[2,1],[-2,2],[4,-7]])\n",
    "origin = [0], [0] # origin point\n",
    "\n",
    "plt.quiver(*origin, V[:,0], V[:,1], color=['r','b','g'],scale=20);\n",
    "# plt.legend(['v1','v2','v3'])"
   ]
  },
  {
   "cell_type": "markdown",
   "metadata": {},
   "source": [
    "In Above example we have three directions of vectors $ \\vec v_1 $ = [2, 1] ,  $ \\vec v_2 $ = [-2, 2] ,  $ \\vec v_3 $ = [4, -7] . We can see from above plot that the vectors are directions of pointed spaces."
   ]
  },
  {
   "cell_type": "code",
   "execution_count": 59,
   "metadata": {},
   "outputs": [
    {
     "data": {
      "text/plain": [
       "<matplotlib.quiver.Quiver at 0x1e77fb5ca90>"
      ]
     },
     "execution_count": 59,
     "metadata": {},
     "output_type": "execute_result"
    },
    {
     "data": {
      "image/png": "[encoded data removed]",
      "text/plain": [
       "<Figure size 432x288 with 1 Axes>"
      ]
     },
     "metadata": {
      "needs_background": "light"
     },
     "output_type": "display_data"
    }
   ],
   "source": [
    "# scalar multiplication\n",
    "V2 = 2 * V\n",
    "plt.quiver(*origin, V2[:,0], V2[:,1], color=['r','g','b'], scale=21)"
   ]
  },
  {
   "cell_type": "markdown",
   "metadata": {},
   "source": [
    "BY Multiplying with scllar the directio didnt change bt just the size or magnituted\n"
   ]
  },
  {
   "cell_type": "code",
   "execution_count": 53,
   "metadata": {},
   "outputs": [
    {
     "data": {
      "text/plain": [
       "array([ 2, -5])"
      ]
     },
     "execution_count": 53,
     "metadata": {},
     "output_type": "execute_result"
    }
   ],
   "source": [
    "V[1] + V[2]"
   ]
  },
  {
   "cell_type": "code",
   "execution_count": 55,
   "metadata": {},
   "outputs": [
    {
     "data": {
      "image/png": "[encoded data removed]",
      "text/plain": [
       "<Figure size 432x288 with 1 Axes>"
      ]
     },
     "metadata": {
      "needs_background": "light"
     },
     "output_type": "display_data"
    }
   ],
   "source": [
    "plt.quiver(*origin, V[:,0], V[:,1], color=['r','b','g'], scale=21)\n",
    "v12 = V[0] + V[1] # adding up the 1st (red) and 2nd (blue) vectors\n",
    "plt.quiver(*origin, v12[0], v12[1])\n",
    "plt.show()"
   ]
  },
  {
   "cell_type": "code",
   "execution_count": 54,
   "metadata": {},
   "outputs": [
    {
     "data": {
      "text/plain": [
       "array([22, 13,  9, 12, 19])"
      ]
     },
     "execution_count": 54,
     "metadata": {},
     "output_type": "execute_result"
    }
   ],
   "source": [
    "fmax = np.array([71,75,75,81,80])\n",
    "\n",
    "afmin = np.array([49,62,66,69,61])\n",
    "\n",
    "fmax-fmin"
   ]
  },
  {
   "cell_type": "code",
   "execution_count": null,
   "metadata": {},
   "outputs": [],
   "source": []
  }
 ],
 "metadata": {
  "kernelspec": {
   "display_name": "Python 3",
   "language": "python",
   "name": "python3"
  },
  "language_info": {
   "codemirror_mode": {
    "name": "ipython",
    "version": 3
   },
   "file_extension": ".py",
   "mimetype": "text/x-python",
   "name": "python",
   "nbconvert_exporter": "python",
   "pygments_lexer": "ipython3",
   "version": "3.7.0"
  }
 },
 "nbformat": 4,
 "nbformat_minor": 2
}
